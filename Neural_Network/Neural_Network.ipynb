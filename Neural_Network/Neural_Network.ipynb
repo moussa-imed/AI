{
 "cells": [
  {
   "cell_type": "code",
   "execution_count": 1,
   "id": "e7795f24",
   "metadata": {},
   "outputs": [],
   "source": [
    "import numpy as np"
   ]
  },
  {
   "cell_type": "code",
   "execution_count": 3,
   "id": "13f79cc3",
   "metadata": {},
   "outputs": [],
   "source": [
    "X=[[1,5,7,77],\n",
    "  [2.5,4.5,9,99]]\n",
    "np.random.seed(0)"
   ]
  },
  {
   "cell_type": "code",
   "execution_count": 5,
   "id": "758b309b",
   "metadata": {},
   "outputs": [],
   "source": [
    "class Layer_Dense:\n",
    "    \n",
    "    def __init__(self, n_inputs, n_neur):\n",
    "        self.weights = 0.1*np.random.randn(n_inputs,n_neur)\n",
    "        self.biases = np.zeros((1,n_neurons))\n",
    "        \n",
    "        \n",
    "    def forward(self, inputs):\n",
    "        self.ouput=np.dot(inputs,sefl.weights)+self.biases\n",
    "    "
   ]
  },
  {
   "cell_type": "code",
   "execution_count": null,
   "id": "c86c1ca5",
   "metadata": {},
   "outputs": [],
   "source": [
    "layer1=layer_Dense(4,5)\n",
    "layer2=layer_Dense(5,2)"
   ]
  }
 ],
 "metadata": {
  "kernelspec": {
   "display_name": "Python 3",
   "language": "python",
   "name": "python3"
  },
  "language_info": {
   "codemirror_mode": {
    "name": "ipython",
    "version": 3
   },
   "file_extension": ".py",
   "mimetype": "text/x-python",
   "name": "python",
   "nbconvert_exporter": "python",
   "pygments_lexer": "ipython3",
   "version": "3.8.8"
  }
 },
 "nbformat": 4,
 "nbformat_minor": 5
}
